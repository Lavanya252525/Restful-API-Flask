{
  "cells": [
    {
      "cell_type": "markdown",
      "metadata": {
        "id": "ouC61fw4veCq"
      },
      "source": [
        "# **Restful API & Flask Assignment**"
      ]
    },
    {
      "cell_type": "markdown",
      "metadata": {
        "id": "zOz6ixq8vdps"
      },
      "source": [
        "1. What is a RESTful API?\n",
        " - A RESTful API (Representational State Transfer) is a way for two systems (like a client and a server) to communicate over the internet using HTTP methods like GET, POST, PUT, and DELETE. It works with resources (like data or objects), each identified by a URL.\n",
        "\n",
        "2. Explain the concept of API specification.\n",
        " - API specifications are detailed documents that describe how an API works. They define the endpoints (URLs), the methods used (GET, POST, etc.), the required inputs (like parameters or JSON data), and the expected outputs (like response format and status codes). They also include rules for authentication, error messages, and data types. These specs help developers understand how to use the API correctly without seeing the backend code. Tools like Swagger or Postman often use these specs to test or document APIs.\n",
        "\n",
        "3. What is Flask, and why is it popular for building APIs?\n",
        " - Flask is a lightweight and flexible Python web framework used to build web applications and APIs. It’s popular because it’s simple to use, easy to learn, and doesn’t force you to follow a strict structure. Flask lets you create APIs quickly with just a few lines of code. It supports extensions for things like database access and security, and works well for small to medium projects. Its simplicity and ability to scale make it a top choice for building RESTful APIs in Python.\n",
        "\n",
        "4. What is routing in Flask?\n",
        " - Routing in Flask means connecting a URL path to a specific Python function. When a user visits a URL, Flask uses the route to decide which function should run and what response to send. You define a route using the @app.route() decorator. For example, @app.route('/hello') connects the /hello URL to a function that might return “Hello, World!”. Routing helps control how your web app or API responds to different requests.\n",
        "\n",
        "5. How do you create a simple Flask application?\n",
        " - A simple Flask application starts by importing Flask, creating an app instance, defining routes using decorators, writing functions to handle requests, and running the app. It listens to incoming requests and returns responses based on the defined routes.\n",
        "\n",
        "6. What are HTTP methods used in RESTful APIs?\n",
        " - HTTP methods in RESTful APIs are actions used to interact with resources. The main ones are:\n",
        " - GET to retrieve data,\n",
        " - POST to create new data,\n",
        " - PUT to update existing data,\n",
        " - DELETE to remove data.\n",
        " - These methods help in performing CRUD operations (Create, Read, Update, Delete).\n",
        "\n",
        "7. What is the purpose of the @app.route() decorator in Flask?\n",
        " - The @app.route() decorator in Flask is used to bind a URL path to a specific function. It tells Flask which function should run when a user visits a certain URL. This helps define how your web app or API responds to different routes.\n",
        "\n",
        "8. What is the difference between GET and POST HTTP methods?\n",
        " - GET is used to request and retrieve data from the server and sends data in the URL, making it visible and less secure.\n",
        " - POST is used to send data to the server, usually to create something, and sends data in the request body, making it more secure and suitable for large or sensitive data.\n",
        "\n",
        "9. How do you handle errors in Flask APIs?\n",
        " - In Flask APIs, errors are handled using error handlers that catch specific HTTP error codes or exceptions. You define these handlers with the @app.errorhandler() decorator, write functions to return custom error messages or responses, and can also use try-except blocks in your routes to manage exceptions gracefully. This helps provide clear feedback when something goes wrong.\n",
        "\n",
        "10. How do you connect Flask to a SQL database?\n",
        " - To connect Flask to a SQL database, you typically use an extension like Flask-SQLAlchemy. You configure the database URL in the app’s settings, initialize the database object with your Flask app, and then use this object to define models and perform database operations. This setup allows Flask to interact with the SQL database easily.\n",
        "\n",
        "11. What is the role of Flask-SQLAlchemy?\n",
        " - Flask-SQLAlchemy is an extension that simplifies using SQL databases with Flask. It provides an easy way to define database models as Python classes, handle database connections, and perform queries without writing raw SQL. It integrates SQLAlchemy’s powerful ORM features into Flask, making database operations more organized and Pythonic.\n",
        "\n",
        "12. What are Flask blueprints, and how are they useful?\n",
        " - Flask blueprints are a way to organize a large Flask application by grouping related routes, templates, and static files into separate components. They help keep the code modular and manageable by allowing you to divide the app into smaller parts, which can be registered on the main app later. This makes development, testing, and maintenance easier.\n",
        "\n",
        "13. What is the purpose of Flask's request object?\n",
        " - Flask's request object holds all the data sent by the client in an HTTP request. It lets you access things like form data, JSON payloads, query parameters, headers, and cookies. This helps you read and process the information the client sends to your Flask app or API.\n",
        "\n",
        "14. How do you create a RESTful API endpoint using Flask?\n",
        " - To create a RESTful API endpoint using threads in Flask, you run the long or background task inside a separate thread to avoid blocking the main server. You start a thread inside the route function to handle the task asynchronously while immediately returning a response to the client. This improves performance by keeping the API responsive during long-running operations.\n",
        "\n",
        "15. What is the purpose of Flask's jsonify() function?\n",
        " - Flask's jsonify function converts Python data like dictionaries or lists into a JSON-formatted response with the correct content type (application/json). It makes it easy to send JSON data from your Flask API to clients in a standard, readable format.\n",
        "\n",
        "16. Explain Flask's url_for() function.\n",
        " - Flask's url_for() generates the correct URL for a given function or static file, making your code more flexible and avoiding hard-coded paths. It helps link routes and resources dynamically.\n",
        "\n",
        "17. How does Flask handle static files (CSS, JavaScript, etc.)?\n",
        " - Flask serves static files (like CSS, JavaScript, images) from a special folder named static by default. You place your static files there, and Flask automatically makes them accessible via URLs like /static/filename. This keeps static content organized and easy to manage.\n",
        "\n",
        "18. What is an API specification, and how does it help in building a Flask API?\n",
        " - An API specification is a clear, detailed document that defines how an API should behave—its endpoints, request methods, input data, responses, and error handling. It helps developers understand what the API expects and returns, ensuring everyone follows the same rules. When building a Flask API, the specification guides the design, coding, and testing, making development organized and reducing mistakes.\n",
        "\n",
        "19. What are HTTP status codes, and why are they important in a Flask API?\n",
        " - HTTP status codes are standardized numbers sent in responses to indicate the result of a client's request, like success (200), creation (201), client errors (400), or server errors (500). In a Flask API, they help clients understand whether the request worked or failed and why, enabling proper handling of responses and improving communication between the server and client.\n",
        "\n",
        "20. How do you handle POST requests in Flask?\n",
        " - In Flask, you handle POST requests by defining a route with the methods=['POST'] parameter. Inside the route function, you access the data sent by the client using request.form for form data or request.json for JSON payloads. Then you process this data and return an appropriate response.\n",
        "\n",
        "21. How would you secure a Flask API?\n",
        " - To secure a Flask API, you can use authentication methods like API keys, tokens (e.g., JWT), or OAuth to verify users. Always validate and sanitize input data to prevent attacks like SQL injection. Use HTTPS to encrypt data in transit, enable proper error handling to avoid exposing sensitive info, and limit request rates to prevent abuse. Flask extensions like Flask-JWT or Flask-Login help implement these security features easily.\n",
        "\n",
        "22. What is the significance of the Flask-RESTful extension?\n",
        " - The Flask-RESTful extension simplifies building RESTful APIs in Flask by providing helpful tools like resource classes, request parsing, and automatic response formatting. It structures your API code better, handles common tasks like input validation, and reduces boilerplate, making API development faster and cleaner.\n",
        "\n",
        "23. What is the role of Flask’s session object?\n",
        " - Flask’s Session object stores data specific to a user across multiple requests by saving it on the server or in cookies. It helps keep track of user information like login status or preferences during their visit, enabling features like user authentication and personalized experiences in web apps."
      ]
    },
    {
      "cell_type": "markdown",
      "metadata": {
        "id": "WkVsjJ6O2gIn"
      },
      "source": [
        "# **Practical Questions**"
      ]
    },
    {
      "cell_type": "markdown",
      "metadata": {
        "id": "QAYjB8Ka2cNC"
      },
      "source": [
        "1. How do you create a basic Flask application?"
      ]
    },
    {
      "cell_type": "code",
      "execution_count": null,
      "metadata": {
        "colab": {
          "background_save": true,
          "base_uri": "https://localhost:8080/"
        },
        "id": "iggRZmyPvUDW",
        "outputId": "9b22ac2e-e341-4936-8727-6ac2ea8929b0"
      },
      "outputs": [
        {
          "name": "stdout",
          "output_type": "stream",
          "text": [
            " * Serving Flask app '__main__'\n",
            " * Debug mode: on\n"
          ]
        },
        {
          "name": "stderr",
          "output_type": "stream",
          "text": [
            "INFO:werkzeug:\u001b[31m\u001b[1mWARNING: This is a development server. Do not use it in a production deployment. Use a production WSGI server instead.\u001b[0m\n",
            " * Running on http://127.0.0.1:5000\n",
            "INFO:werkzeug:\u001b[33mPress CTRL+C to quit\u001b[0m\n",
            "INFO:werkzeug: * Restarting with stat\n"
          ]
        }
      ],
      "source": [
        "from flask import Flask\n",
        "\n",
        "app = Flask(__name__)\n",
        "\n",
        "@app.route('/')\n",
        "def home():\n",
        "  return \"Hello\"\n",
        "\n",
        "if __name__ == '__main__':\n",
        "  app.run(debug=True)"
      ]
    },
    {
      "cell_type": "markdown",
      "metadata": {
        "id": "6FP2MG6N2ctY"
      },
      "source": [
        "2. How do you serve static files like images or CSS in Flask?"
      ]
    },
    {
      "cell_type": "code",
      "source": [
        "from flask import Flask\n",
        "\n",
        "app = Flask(__name__)\n",
        "\n",
        "@app.route('/')\n",
        "def home():\n",
        "    return '''\n",
        "    <html>\n",
        "        <head>\n",
        "            <link rel=\"stylesheet\" href=\"/static/style.css\">\n",
        "        </head>\n",
        "        <body>\n",
        "            <h2>Welcome with CSS!</h2>\n",
        "            <img src=\"/static/sample.png\" alt=\"Image\">\n",
        "        </body>\n",
        "    </html>\n",
        "    '''\n",
        "\n",
        "if __name__ == '__main__':\n",
        "    app.run(debug=True)"
      ],
      "metadata": {
        "colab": {
          "base_uri": "https://localhost:8080/"
        },
        "id": "Uxz3VkuzyR6t",
        "outputId": "c2052e79-9b24-405d-ec38-d91f1ede43a7"
      },
      "execution_count": 4,
      "outputs": [
        {
          "output_type": "stream",
          "name": "stdout",
          "text": [
            " * Serving Flask app '__main__'\n",
            " * Debug mode: on\n"
          ]
        },
        {
          "output_type": "stream",
          "name": "stderr",
          "text": [
            "INFO:werkzeug:\u001b[31m\u001b[1mWARNING: This is a development server. Do not use it in a production deployment. Use a production WSGI server instead.\u001b[0m\n",
            " * Running on http://127.0.0.1:5000\n",
            "INFO:werkzeug:\u001b[33mPress CTRL+C to quit\u001b[0m\n",
            "INFO:werkzeug: * Restarting with stat\n"
          ]
        }
      ]
    },
    {
      "cell_type": "markdown",
      "metadata": {
        "id": "qpGnoF1g2g1R"
      },
      "source": [
        "3. How do you define different routes with different HTTP methods in Flask?"
      ]
    },
    {
      "cell_type": "code",
      "execution_count": null,
      "metadata": {
        "id": "kDk7oAJ92hOv"
      },
      "outputs": [],
      "source": [
        "from flask import Flask, request\n",
        "\n",
        "app = Flask(__name__)\n",
        "\n",
        "@app.route('/get-example', methods=['GET'])\n",
        "def get_data():\n",
        "  return \"This is a GET request\"\n",
        "\n",
        "@app.route('/post-example', methods=['POST'])\n",
        "def post_data():\n",
        "  return \"This is a POST request\"\n",
        "\n",
        "@app.route('/both-example', methods=['GET', 'POST'])\n",
        "def both_data():\n",
        "  if request.method == 'GET':\n",
        "      return \"You sent a GET\"\n",
        "  else:\n",
        "      return \"You sent a POST\"\n",
        "\n",
        "if __name__ == '__main__':\n",
        "  app.run(debug=True)"
      ]
    },
    {
      "cell_type": "markdown",
      "metadata": {
        "id": "Q6Shf0s92h0O"
      },
      "source": [
        "4. How do you render HTML templates in Flask?"
      ]
    },
    {
      "cell_type": "code",
      "execution_count": 6,
      "metadata": {
        "id": "c0LqG1hw2iOO",
        "colab": {
          "base_uri": "https://localhost:8080/"
        },
        "outputId": "1e68c1a4-7009-4515-fc18-5f54806618a9"
      },
      "outputs": [
        {
          "output_type": "stream",
          "name": "stdout",
          "text": [
            " * Serving Flask app '__main__'\n",
            " * Debug mode: on\n"
          ]
        },
        {
          "output_type": "stream",
          "name": "stderr",
          "text": [
            "INFO:werkzeug:\u001b[31m\u001b[1mWARNING: This is a development server. Do not use it in a production deployment. Use a production WSGI server instead.\u001b[0m\n",
            " * Running on http://127.0.0.1:5000\n",
            "INFO:werkzeug:\u001b[33mPress CTRL+C to quit\u001b[0m\n",
            "INFO:werkzeug: * Restarting with stat\n"
          ]
        }
      ],
      "source": [
        "from flask import Flask, render_template\n",
        "\n",
        "app = Flask(__name__)\n",
        "\n",
        "@app.route('/')\n",
        "def home():\n",
        "  return render_template('home.html')\n",
        "\n",
        "if __name__ == '__main__':\n",
        "  app.run(debug=True)"
      ]
    },
    {
      "cell_type": "markdown",
      "metadata": {
        "id": "DttuhW0z2ist"
      },
      "source": [
        "5. How can you generate URLs for routes in Flask using url_for?"
      ]
    },
    {
      "cell_type": "code",
      "execution_count": 7,
      "metadata": {
        "id": "9bCueV2O2jEa",
        "colab": {
          "base_uri": "https://localhost:8080/"
        },
        "outputId": "041976aa-05fe-48fd-dc3f-38b6aa0be451"
      },
      "outputs": [
        {
          "output_type": "stream",
          "name": "stdout",
          "text": [
            " * Serving Flask app '__main__'\n",
            " * Debug mode: on\n"
          ]
        },
        {
          "output_type": "stream",
          "name": "stderr",
          "text": [
            "INFO:werkzeug:\u001b[31m\u001b[1mWARNING: This is a development server. Do not use it in a production deployment. Use a production WSGI server instead.\u001b[0m\n",
            " * Running on http://127.0.0.1:5000\n",
            "INFO:werkzeug:\u001b[33mPress CTRL+C to quit\u001b[0m\n",
            "INFO:werkzeug: * Restarting with stat\n"
          ]
        }
      ],
      "source": [
        "from flask import Flask, url_for\n",
        "\n",
        "app = Flask(__name__)\n",
        "\n",
        "@app.route('/')\n",
        "def home():\n",
        "  return f'Go to About: <a href=\"{url_for(\"about\")}\">About Page</a>'\n",
        "\n",
        "@app.route('/about')\n",
        "def about():\n",
        "  return \"This is the About Page\"\n",
        "\n",
        "if __name__ == '__main__':\n",
        "  app.run(debug=True)"
      ]
    },
    {
      "cell_type": "markdown",
      "metadata": {
        "id": "t410x0-w2jnb"
      },
      "source": [
        "6. How do you handle forms in Flask?"
      ]
    },
    {
      "cell_type": "code",
      "execution_count": null,
      "metadata": {
        "id": "rmkHLs8I2kJu"
      },
      "outputs": [],
      "source": [
        "from flask import Flask, request\n",
        "\n",
        "app = Flask(__name__)\n",
        "\n",
        "@app.route('/', methods=['GET', 'POST'])\n",
        "def form_example():\n",
        "  if request.method == 'POST':\n",
        "      name = request.form['name']\n",
        "      return f"
      ]
    },
    {
      "cell_type": "markdown",
      "metadata": {
        "id": "2oHqrEWd2koT"
      },
      "source": [
        "7. How can you validate form data in Flask?"
      ]
    },
    {
      "cell_type": "code",
      "execution_count": null,
      "metadata": {
        "id": "BHrOijf32lHr"
      },
      "outputs": [],
      "source": [
        "from flask import Flask, request\n",
        "\n",
        "app = Flask(__name__)\n",
        "\n",
        "@app.route('/', methods=['GET', 'POST'])\n",
        "def validate_form():\n",
        "  if request.method == 'POST':\n",
        "      name = request.form.get('name')\n",
        "      if not name:\n",
        "          return 'Name is required!'\n",
        "      return f'Welcome, {name}!'\n",
        "  return '''\n",
        "        <form method=\"POST\">\n",
        "            Name: <input type=\"text\" name=\"name\">\n",
        "            <input type=\"submit\" value=\"Submit\">\n",
        "        </form>\n",
        "    '''\n",
        "\n",
        "if __name__ == '__main__':\n",
        "    app.run(debug=True)"
      ]
    },
    {
      "cell_type": "markdown",
      "metadata": {
        "id": "_Cv3_qO22lpF"
      },
      "source": [
        "8. How do you manage sessions in Flask?"
      ]
    },
    {
      "cell_type": "code",
      "execution_count": 8,
      "metadata": {
        "id": "wGiHcQ9O2mD1"
      },
      "outputs": [],
      "source": [
        "from flask import Flask, session, redirect, url_for, request\n",
        "\n",
        "app = Flask(__name__)\n",
        "app.secret_key = 'your_secret_key'\n",
        "\n",
        "@app.route('/')\n",
        "def home():\n",
        "  if 'username' in session:\n",
        "      return f'Logged in as {session[\"username\"]}'\n",
        "  return 'You are not logged in'\n",
        "\n",
        "@app.route('/login', methods=['POST', 'GET'])\n",
        "def login():\n",
        "  if request.method == 'POST':\n",
        "      session['username'] = request.form['username']\n",
        "      return redirect(url_for('home'))\n",
        "  return '''\n",
        "        <form method=\"POST\">\n",
        "            Username: <input type=\"text\" name=\"username\">\n",
        "            <input type=\"submit\" value=\"Login\">\n",
        "        </form>\n",
        "    '''\n",
        "\n",
        "@app.route('/logout')\n",
        "def logout():\n",
        "    session.pop('username', None)\n",
        "    return redirect(url_for('home'))\n",
        "\n",
        "if __name__ == '__main__':\n",
        "  app.run(debug=True)"
      ]
    },
    {
      "cell_type": "markdown",
      "metadata": {
        "id": "Q2ItnYN02mpd"
      },
      "source": [
        "9. How do you redirect to a different route in Flask?"
      ]
    },
    {
      "cell_type": "code",
      "execution_count": null,
      "metadata": {
        "id": "koi0RBi12nBO"
      },
      "outputs": [],
      "source": [
        "from flask import Flask, redirect, url_for\n",
        "\n",
        "app = Flask(__name__)\n",
        "\n",
        "@app.route('/')\n",
        "def home():\n",
        "  return redirect(url_for('welcome'))\n",
        "\n",
        "@app.route('/welcome')\n",
        "def welcome():\n",
        "  return \"You have been redirected here!\"\n",
        "\n",
        "if __name__ == '__main__':\n",
        "  app.run(debug=True)"
      ]
    },
    {
      "cell_type": "markdown",
      "metadata": {
        "id": "0pgJQUU22nhY"
      },
      "source": [
        "10. How do you handle errors in Flask (e.g., 404)?"
      ]
    },
    {
      "cell_type": "code",
      "execution_count": null,
      "metadata": {
        "id": "qtAguiMQ2n4-"
      },
      "outputs": [],
      "source": [
        "from flask import Flask\n",
        "\n",
        "app = Flask(__name__)\n",
        "\n",
        "@app.errorhandler(404)\n",
        "def page_not_found(e):\n",
        "  return \"Oops! Page not found.\", 404\n",
        "\n",
        "@app.route('/')\n",
        "def home():\n",
        "  return \"Welcome to the home page.\"\n",
        "\n",
        "if __name__ == '__main__':\n",
        "  app.run(debug=True)"
      ]
    },
    {
      "cell_type": "markdown",
      "metadata": {
        "id": "be27xe_Z2odP"
      },
      "source": [
        "11. How do you structure a Flask app using Blueprints?"
      ]
    },
    {
      "cell_type": "code",
      "execution_count": null,
      "metadata": {
        "id": "OQx1BwBr2o-T"
      },
      "outputs": [],
      "source": [
        "from flask import Flask, Blueprint\n",
        "\n",
        "main_bp = Blueprint('main', __name__)\n",
        "\n",
        "@main_bp.route('/')\n",
        "def home():\n",
        "  return \"Hello from Blueprint!\"\n",
        "\n",
        "app = Flask(__name__)\n",
        "app.register_blueprint(main_bp)\n",
        "\n",
        "if __name__ == '__main__':\n",
        "  app.run(debug=True)"
      ]
    },
    {
      "cell_type": "markdown",
      "metadata": {
        "id": "2KHRf1Wg2peH"
      },
      "source": [
        "12. How do you define a custom Jinja filter in Flask?"
      ]
    },
    {
      "cell_type": "code",
      "execution_count": null,
      "metadata": {
        "id": "yV7UCbz62p9N"
      },
      "outputs": [],
      "source": [
        "from flask import Flask\n",
        "\n",
        "app = Flask(__name__)\n",
        "\n",
        "@app.template_filter('reverse')\n",
        "def reverse_string(s):\n",
        "  return s[::-1]\n",
        "\n",
        "@app.route('/')\n",
        "def home():\n",
        "  return '''\n",
        "  {{ \"Flask\" | reverse }}\n",
        "    '''\n",
        "\n",
        "if __name__ == '__main__':\n",
        "  app.run(debug=True)"
      ]
    },
    {
      "cell_type": "markdown",
      "metadata": {
        "id": "jntU2CMR2qez"
      },
      "source": [
        "13. How can you redirect with query parameters in Flask?"
      ]
    },
    {
      "cell_type": "code",
      "execution_count": null,
      "metadata": {
        "id": "_AP4as9c2q1n"
      },
      "outputs": [],
      "source": [
        "from flask import Flask, redirect, url_for, request\n",
        "\n",
        "app = Flask(__name__)\n",
        "\n",
        "@app.route('/')\n",
        "def home():\n",
        "  return redirect(url_for('welcome', name='Lavanya'))\n",
        "\n",
        "@app.route('/welcome')\n",
        "def welcome():\n",
        "  name = request.args.get('name')\n",
        "  return f'Hello, {name}!'\n",
        "\n",
        "if __name__ == '__main__':\n",
        "  app.run(debug=True)"
      ]
    },
    {
      "cell_type": "markdown",
      "metadata": {
        "id": "3kTzzA_02rSV"
      },
      "source": [
        "14. How do you return JSON responses in Flask?"
      ]
    },
    {
      "cell_type": "code",
      "execution_count": null,
      "metadata": {
        "id": "3zR7FoGz2rqk"
      },
      "outputs": [],
      "source": [
        "from flask import Flask, jsonify\n",
        "\n",
        "app = Flask(__name__)\n",
        "\n",
        "@app.route('/data')\n",
        "def data():\n",
        "  return jsonify(name=\"Lavanya\", age=22, course=\"Python\")\n",
        "\n",
        "if __name__ == '__main__':\n",
        "  app.run(debug=True)"
      ]
    },
    {
      "cell_type": "markdown",
      "metadata": {
        "id": "flBfU7iB2sGF"
      },
      "source": [
        "15. How do you capture URL parameters in Flask?\n"
      ]
    },
    {
      "cell_type": "code",
      "execution_count": 9,
      "metadata": {
        "id": "6oWFjx0l2seU"
      },
      "outputs": [],
      "source": [
        "from flask import Flask\n",
        "\n",
        "app = Flask(__name__)\n",
        "\n",
        "@app.route('/user/<username>')\n",
        "def show_user(username):\n",
        "  return f'Hello, {username}!'\n",
        "\n",
        "if __name__ == '__main__':\n",
        "  app.run(debug=True)"
      ]
    }
  ],
  "metadata": {
    "colab": {
      "provenance": []
    },
    "kernelspec": {
      "display_name": "Python 3",
      "name": "python3"
    },
    "language_info": {
      "name": "python"
    }
  },
  "nbformat": 4,
  "nbformat_minor": 0
}